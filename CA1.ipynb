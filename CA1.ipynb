{
 "cells": [
  {
   "cell_type": "markdown",
   "id": "80e9e439",
   "metadata": {},
   "source": [
    "## CA1 - Artificial Intelligence\n",
    "#### Student Name: Caroline de Sa Teixeira | Student Number: 2020331"
   ]
  },
  {
   "attachments": {},
   "cell_type": "markdown",
   "id": "704d0601",
   "metadata": {},
   "source": [
    "#### Questions"
   ]
  },
  {
   "cell_type": "markdown",
   "id": "d318b2c2",
   "metadata": {},
   "source": [
    "1. A puzzle has multiple ways of reaching the end solution. Fig. 1 shows a graph that represents all possible routes to the solution. The starting point of the game is represented by A, the solution is represented by S. The other points in the graph are possible intermediary stages."
   ]
  },
  {
   "cell_type": "markdown",
   "id": "413aac27",
   "metadata": {},
   "source": [
    "###### (a) The graph in Fig. 1 is a visualisation of the problem."
   ]
  },
  {
   "cell_type": "markdown",
   "id": "19dbb4ae",
   "metadata": {},
   "source": [
    "###### (i) Identify the differences between a graph and a tree.\n",
    "\n",
    "A graph is a type of data structure that can be considered a collection of nodes and edges. The edges are responsible for establishing connections between nodes, sometimes forming cycles and loops. Graphs can also be directed, with edges having specific directions, or undirected, which means that edges don't have a specific direction. Additionally, graphs can contain weighted edges, providing specific cost values to the edges of a graph. They can be efficiently represented through adjacency matrices or lists. Notably, a graph does not contain unique nodes or roots.\n",
    "\n",
    "A tree is a specific type of graph, composed of nodes and edges. Unlike a general graph, it cannot form cycles or loops. Trees provide a unique path between any two nodes, with a single node called the root serving as the starting point of the tree. The root node can have multiple child nodes. Trees can be further categorized into two distinct types: binary trees, where each node has at most two children, and non-binary trees, where each node can have any number of children."
   ]
  },
  {
   "cell_type": "markdown",
   "id": "934743c4",
   "metadata": {},
   "source": [
    "###### (ii) Explain in detail how the graph is an abstraction of the problem."
   ]
  },
  {
   "cell_type": "markdown",
   "id": "eba3c1c2",
   "metadata": {},
   "source": [
    "###### (iii) Identify the advantages of using a visualisation such as the one shown in Fig. 1."
   ]
  },
  {
   "cell_type": "markdown",
   "id": "324cf4a2",
   "metadata": {},
   "source": [
    "###### (b) Demonstrate how Dijkstra’s algorithm would find the shortest path to the solution in Fig.1 through diagrams and written explanation of each stage."
   ]
  },
  {
   "cell_type": "markdown",
   "id": "d1fa724a",
   "metadata": {},
   "source": [
    "###### 2. The creator of the puzzle has been told that the A* algorithm is more efficient at finding the shortest path because it uses heuristics. Compare the performance of Dijkstra’s algorithm and the A* search algorithm, referring to heuristics, to find the shortest path to the problem by implementing both algorithms programmatically and comparing the solutions generated in Mark-down. Refer to the complexity of the algorithms and compare the actual time it takes for the solutions to be processed."
   ]
  },
  {
   "cell_type": "markdown",
   "id": "888e1e18",
   "metadata": {},
   "source": [
    "#### Referencing\n",
    "\n",
    "1. Admin (2022) Difference between graph and tree, BYJUS. BYJU’S. Available at: https://byjus.com/gate/difference-between-graph-and-tree/#:~:text=A%20graph%20is%20a%20set,set%20of%20nodes%20and%20edges.&text=In%20the%20graph%2C%20there%20is,which%20is%20known%20as%20root (Accessed: 6 November 2023).\n",
    "\n",
    "2. Difference between graph and tree (2023) GeeksforGeeks. GeeksforGeeks. Available at: https://www.geeksforgeeks.org/difference-between-graph-and-tree/ (Accessed: 6 November 2023)."
   ]
  },
  {
   "cell_type": "code",
   "execution_count": null,
   "id": "03b0e68c",
   "metadata": {},
   "outputs": [],
   "source": []
  }
 ],
 "metadata": {
  "kernelspec": {
   "display_name": "Python 3 (ipykernel)",
   "language": "python",
   "name": "python3"
  },
  "language_info": {
   "codemirror_mode": {
    "name": "ipython",
    "version": 3
   },
   "file_extension": ".py",
   "mimetype": "text/x-python",
   "name": "python",
   "nbconvert_exporter": "python",
   "pygments_lexer": "ipython3",
   "version": "3.9.7"
  }
 },
 "nbformat": 4,
 "nbformat_minor": 5
}
